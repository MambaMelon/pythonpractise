{
 "cells": [
  {
   "cell_type": "code",
   "execution_count": 2,
   "metadata": {
    "collapsed": false
   },
   "outputs": [],
   "source": [
    "import numpy as np\n",
    "import pandas as pd\n",
    "import matplotlib.pyplot as plt\n",
    "import matplotlib as mpl\n",
    "from sklearn import tree\n",
    "from sklearn.ensemble import RandomForestClassifier\n",
    "from sklearn.model_selection import train_test_split\n",
    "from sklearn.pipeline import Pipeline\n",
    "from sklearn.model_selection import GridSearchCV\n",
    "from sklearn.preprocessing import MinMaxScaler\n",
    "from sklearn.decomposition import PCA\n",
    "from sklearn.preprocessing import Imputer\n",
    "from sklearn.preprocessing import label_binarize\n",
    "from sklearn import metrics"
   ]
  },
  {
   "cell_type": "code",
   "execution_count": 3,
   "metadata": {
    "collapsed": true
   },
   "outputs": [],
   "source": [
    "mpl.rcParams['font.sans-serif'] = [u'SimHei']\n",
    "mpl.rcParams['axes.unicode_minus'] = False"
   ]
  },
  {
   "cell_type": "code",
   "execution_count": 4,
   "metadata": {
    "collapsed": false
   },
   "outputs": [],
   "source": [
    "names = [u'Age', u'Number of sexual partners', u'First sexual intercourse',\n",
    "       u'Num of pregnancies', u'Smokes', u'Smokes (years)',\n",
    "       u'Smokes (packs/year)', u'Hormonal Contraceptives',\n",
    "       u'Hormonal Contraceptives (years)', u'IUD', u'IUD (years)', u'STDs',\n",
    "       u'STDs (number)', u'STDs:condylomatosis',\n",
    "       u'STDs:cervical condylomatosis', u'STDs:vaginal condylomatosis',\n",
    "       u'STDs:vulvo-perineal condylomatosis', u'STDs:syphilis',\n",
    "       u'STDs:pelvic inflammatory disease', u'STDs:genital herpes',\n",
    "       u'STDs:molluscum contagiosum', u'STDs:AIDS', u'STDs:HIV',\n",
    "       u'STDs:Hepatitis B', u'STDs:HPV', u'STDs: Number of diagnosis',\n",
    "       u'STDs: Time since first diagnosis', u'STDs: Time since last diagnosis',\n",
    "       u'Dx:Cancer', u'Dx:CIN', u'Dx:HPV', u'Dx', u'Hinselmann', u'Schiller',\n",
    "       u'Citology', u'Biopsy']#df.columns\n",
    "path = \"datas/risk_factors_cervical_cancer.csv\"  # 数据文件路径\n",
    "data = pd.read_csv(path)"
   ]
  },
  {
   "cell_type": "code",
   "execution_count": 5,
   "metadata": {
    "collapsed": false
   },
   "outputs": [
    {
     "data": {
      "text/html": [
       "<div>\n",
       "<table border=\"1\" class=\"dataframe\">\n",
       "  <thead>\n",
       "    <tr style=\"text-align: right;\">\n",
       "      <th></th>\n",
       "      <th>Age</th>\n",
       "      <th>Number of sexual partners</th>\n",
       "      <th>First sexual intercourse</th>\n",
       "      <th>Num of pregnancies</th>\n",
       "      <th>Smokes</th>\n",
       "      <th>Smokes (years)</th>\n",
       "      <th>Smokes (packs/year)</th>\n",
       "      <th>Hormonal Contraceptives</th>\n",
       "      <th>Hormonal Contraceptives (years)</th>\n",
       "      <th>IUD</th>\n",
       "      <th>...</th>\n",
       "      <th>STDs:HIV</th>\n",
       "      <th>STDs:Hepatitis B</th>\n",
       "      <th>STDs:HPV</th>\n",
       "      <th>STDs: Number of diagnosis</th>\n",
       "      <th>STDs: Time since first diagnosis</th>\n",
       "      <th>STDs: Time since last diagnosis</th>\n",
       "      <th>Dx:Cancer</th>\n",
       "      <th>Dx:CIN</th>\n",
       "      <th>Dx:HPV</th>\n",
       "      <th>Dx</th>\n",
       "    </tr>\n",
       "  </thead>\n",
       "  <tbody>\n",
       "    <tr>\n",
       "      <th>0</th>\n",
       "      <td>18</td>\n",
       "      <td>4.0</td>\n",
       "      <td>15.0</td>\n",
       "      <td>1.0</td>\n",
       "      <td>0.0</td>\n",
       "      <td>0.0</td>\n",
       "      <td>0.0</td>\n",
       "      <td>0.0</td>\n",
       "      <td>0.0</td>\n",
       "      <td>0.0</td>\n",
       "      <td>...</td>\n",
       "      <td>0.0</td>\n",
       "      <td>0.0</td>\n",
       "      <td>0.0</td>\n",
       "      <td>0</td>\n",
       "      <td>?</td>\n",
       "      <td>?</td>\n",
       "      <td>0</td>\n",
       "      <td>0</td>\n",
       "      <td>0</td>\n",
       "      <td>0</td>\n",
       "    </tr>\n",
       "  </tbody>\n",
       "</table>\n",
       "<p>1 rows × 32 columns</p>\n",
       "</div>"
      ],
      "text/plain": [
       "   Age Number of sexual partners First sexual intercourse Num of pregnancies  \\\n",
       "0   18                       4.0                     15.0                1.0   \n",
       "\n",
       "  Smokes Smokes (years) Smokes (packs/year) Hormonal Contraceptives  \\\n",
       "0    0.0            0.0                 0.0                     0.0   \n",
       "\n",
       "  Hormonal Contraceptives (years)  IUD ... STDs:HIV STDs:Hepatitis B STDs:HPV  \\\n",
       "0                             0.0  0.0 ...      0.0              0.0      0.0   \n",
       "\n",
       "  STDs: Number of diagnosis STDs: Time since first diagnosis  \\\n",
       "0                         0                                ?   \n",
       "\n",
       "  STDs: Time since last diagnosis Dx:Cancer Dx:CIN Dx:HPV Dx  \n",
       "0                               ?         0      0      0  0  \n",
       "\n",
       "[1 rows x 32 columns]"
      ]
     },
     "execution_count": 5,
     "metadata": {},
     "output_type": "execute_result"
    }
   ],
   "source": [
    "## 模型存在多个需要预测的y值，如果是这种情况下，简单来讲可以直接模型构建，在模型内部会单独的处理每个需要预测的y值，相当于对每个y创建一个模型\n",
    "X = data[names[0:-4]]\n",
    "Y = data[names[-4:]]\n",
    "X.head(1)#随机森林可以处理多个目标变量的情况"
   ]
  },
  {
   "cell_type": "code",
   "execution_count": 6,
   "metadata": {
    "collapsed": false,
    "scrolled": true
   },
   "outputs": [],
   "source": [
    "#空值的处理\n",
    "X = X.replace(\"?\", np.NAN)\n",
    "# 使用Imputer给定缺省值，默认的是以mean\n",
    "# 对于缺省值，进行数据填充；默认是以列/特征的均值填充\n",
    "imputer = Imputer(missing_values=\"NaN\")\n",
    "X = imputer.fit_transform(X, Y)"
   ]
  },
  {
   "cell_type": "code",
   "execution_count": 7,
   "metadata": {
    "collapsed": false
   },
   "outputs": [
    {
     "data": {
      "text/plain": [
       "array([ 18.        ,   4.        ,  15.        ,   1.        ,\n",
       "         0.        ,   0.        ,   0.        ,   0.        ,\n",
       "         0.        ,   0.        ,   0.        ,   0.        ,\n",
       "         0.        ,   0.        ,   0.        ,   0.        ,\n",
       "         0.        ,   0.        ,   0.        ,   0.        ,\n",
       "         0.        ,   0.        ,   0.        ,   0.        ,\n",
       "         0.        ,   0.        ,   6.14084507,   5.81690141,\n",
       "         0.        ,   0.        ,   0.        ,   0.        ])"
      ]
     },
     "execution_count": 7,
     "metadata": {},
     "output_type": "execute_result"
    }
   ],
   "source": [
    "X[0]"
   ]
  },
  {
   "cell_type": "code",
   "execution_count": 8,
   "metadata": {
    "collapsed": false
   },
   "outputs": [
    {
     "name": "stdout",
     "output_type": "stream",
     "text": [
      "训练样本数量:686,特征属性数目:32,目标属性数目:4\n",
      "测试样本数量:172\n"
     ]
    }
   ],
   "source": [
    "#数据分割\n",
    "x_train,x_test,y_train,y_test = train_test_split(X, Y, test_size=0.2, random_state=0)\n",
    "print (\"训练样本数量:%d,特征属性数目:%d,目标属性数目:%d\" % (x_train.shape[0],x_train.shape[1],y_train.shape[1]))\n",
    "print (\"测试样本数量:%d\" % x_test.shape[0])"
   ]
  },
  {
   "cell_type": "code",
   "execution_count": 9,
   "metadata": {
    "collapsed": false
   },
   "outputs": [
    {
     "data": {
      "text/plain": [
       "(686, 32)"
      ]
     },
     "execution_count": 9,
     "metadata": {},
     "output_type": "execute_result"
    }
   ],
   "source": [
    "#标准化\n",
    "ss = MinMaxScaler()#分类模型，经常使用的是minmaxscaler归一化，回归模型经常用standardscaler\n",
    "x_train = ss.fit_transform(x_train, y_train)\n",
    "x_test = ss.transform(x_test)\n",
    "x_train.shape"
   ]
  },
  {
   "cell_type": "code",
   "execution_count": 10,
   "metadata": {
    "collapsed": false
   },
   "outputs": [
    {
     "name": "stdout",
     "output_type": "stream",
     "text": [
      "[ 0.24021831  0.2067443 ]\n"
     ]
    }
   ],
   "source": [
    "#降维\n",
    "pca = PCA(n_components=2)\n",
    "x_train = pca.fit_transform(x_train)\n",
    "x_test = pca.transform(x_test)\n",
    "x_train.shape\n",
    "print(pca.explained_variance_ratio_)"
   ]
  },
  {
   "cell_type": "code",
   "execution_count": 11,
   "metadata": {
    "collapsed": false
   },
   "outputs": [
    {
     "data": {
      "text/plain": [
       "RandomForestClassifier(bootstrap=True, class_weight=None, criterion='gini',\n",
       "            max_depth=2, max_features='auto', max_leaf_nodes=None,\n",
       "            min_impurity_split=1e-07, min_samples_leaf=1,\n",
       "            min_samples_split=2, min_weight_fraction_leaf=0.0,\n",
       "            n_estimators=100, n_jobs=1, oob_score=False, random_state=0,\n",
       "            verbose=0, warm_start=False)"
      ]
     },
     "execution_count": 11,
     "metadata": {},
     "output_type": "execute_result"
    }
   ],
   "source": [
    "#随机森林模型\n",
    "### n_estimators：迭代次数，每次迭代为Y产生一个模型\n",
    "forest = RandomForestClassifier(n_estimators=100, criterion='gini', max_depth=2, random_state=0)\n",
    "forest.fit(x_train, y_train)#max_depth一般不宜设置过大，把每个模型作为一个弱分类器"
   ]
  },
  {
   "cell_type": "code",
   "execution_count": 12,
   "metadata": {
    "collapsed": false
   },
   "outputs": [
    {
     "name": "stdout",
     "output_type": "stream",
     "text": [
      "准确率:89.53%\n",
      "Hinselmann目标属性AUC值： 0.990569226609\n",
      "Schiller目标属性AUC值： 0.965319091401\n",
      "Citology目标属性AUC值： 0.962074094105\n",
      "Biopsy目标属性AUC值： 0.961026230395\n"
     ]
    }
   ],
   "source": [
    "#模型效果评估\n",
    "score = forest.score(x_test, y_test)\n",
    "print (\"准确率:%.2f%%\" % (score * 100))\n",
    "#模型预测\n",
    "forest_y_score = forest.predict_proba(x_test)# prodict_proba输出概率\n",
    "#计算ROC值\n",
    "forest_fpr1, forest_tpr1, _ = metrics.roc_curve(label_binarize(y_test[names[-4]],classes=(0,1,2)).T[0:-1].T.ravel(), forest_y_score[0].ravel())\n",
    "forest_fpr2, forest_tpr2, _ = metrics.roc_curve(label_binarize(y_test[names[-3]],classes=(0,1,2)).T[0:-1].T.ravel(), forest_y_score[1].ravel())\n",
    "forest_fpr3, forest_tpr3, _ = metrics.roc_curve(label_binarize(y_test[names[-2]],classes=(0,1,2)).T[0:-1].T.ravel(), forest_y_score[2].ravel())\n",
    "forest_fpr4, forest_tpr4, _ = metrics.roc_curve(label_binarize(y_test[names[-1]],classes=(0,1,2)).T[0:-1].T.ravel(), forest_y_score[3].ravel())\n",
    "#AUC值\n",
    "auc1 = metrics.auc(forest_fpr1, forest_tpr1)\n",
    "auc2 = metrics.auc(forest_fpr2, forest_tpr2)\n",
    "auc3 = metrics.auc(forest_fpr3, forest_tpr3)\n",
    "auc4 = metrics.auc(forest_fpr4, forest_tpr4)\n",
    "\n",
    "print (\"Hinselmann目标属性AUC值：\", auc1)\n",
    "print (\"Schiller目标属性AUC值：\", auc2)\n",
    "print (\"Citology目标属性AUC值：\", auc3)\n",
    "print (\"Biopsy目标属性AUC值：\", auc4)"
   ]
  },
  {
   "cell_type": "code",
   "execution_count": 34,
   "metadata": {
    "collapsed": false,
    "scrolled": false
   },
   "outputs": [
    {
     "data": {
      "text/plain": [
       "array([1, 0, 1, 0, 0, 1, 0, 1])"
      ]
     },
     "execution_count": 34,
     "metadata": {},
     "output_type": "execute_result"
    }
   ],
   "source": [
    "c = label_binarize(y_test[names[-4]],classes=(0,1,2))\n",
    "a = a.T[0:-1].T.ravel()\n",
    "b = forest_y_score[0].ravel()\n",
    "# metrics.roc_curve(a, b)\n",
    "# 备注：172是样本数目\n",
    "# b是一个344维的数组\n",
    "# np.shape(b)\n",
    "# forest_y_score[0]是一个172*2的矩阵\n",
    "# np.shape(forest_y_score[0])\n",
    "# ravel方法的作用是扁平化的效果\n",
    "# a是一个344维的数组\n",
    "# np.shape(a)\n",
    "# c是一个172*3的矩阵\n",
    "# np.shape(c)\n",
    "# y_test[names[-4]]是一个172的数组，中间存储的是实际类别值，取值为0或者1\n",
    "# np.shape(y_test[names[-4]])\n",
    "label_binarize(['a','a','b','b'],classes=('a','b','c')).T[:-1].T.ravel()"
   ]
  },
  {
   "cell_type": "code",
   "execution_count": 13,
   "metadata": {
    "collapsed": false
   },
   "outputs": [
    {
     "data": {
      "text/plain": [
       "(344,)"
      ]
     },
     "execution_count": 13,
     "metadata": {},
     "output_type": "execute_result"
    }
   ],
   "source": [
    "np.array(forest_y_score).shape\n",
    "np.shape(forest_y_score[0].ravel())"
   ]
  },
  {
   "cell_type": "code",
   "execution_count": 14,
   "metadata": {
    "collapsed": false,
    "scrolled": false
   },
   "outputs": [
    {
     "data": {
      "text/plain": [
       "(344,)"
      ]
     },
     "execution_count": 14,
     "metadata": {},
     "output_type": "execute_result"
    }
   ],
   "source": [
    "label_binarize(y_test[names[-4]],classes=(0,1,2)).T[0:-1].T.ravel()\n",
    "label_binarize(y_test[names[-4]],classes=(0,1,2)).T[0:-1].T.ravel().shape\n",
    "# label_binarize(y_test[names[-4]],classes=(0,1,2)).T[0:-1]\n",
    "# label_binarize(y_test[names[-4]],classes=(0,1,2)).T\n",
    "# label_binarize(y_test[names[-4]],classes=(0,1,2))\n",
    "# y_test[names[-4]]\n",
    "# names[-4]"
   ]
  },
  {
   "cell_type": "code",
   "execution_count": 33,
   "metadata": {
    "collapsed": false
   },
   "outputs": [
    {
     "data": {
      "text/plain": [
       "array([1, 0, 1, 0, 0, 1, 0, 1])"
      ]
     },
     "execution_count": 33,
     "metadata": {},
     "output_type": "execute_result"
    }
   ],
   "source": [
    "label_binarize(['a','a','b','b'],classes=('a','b','c'))\n",
    "label_binarize(['a','a','b','b'],classes=('a','b','c')).T[:-1].T.ravel()"
   ]
  },
  {
   "cell_type": "code",
   "execution_count": 16,
   "metadata": {
    "collapsed": false
   },
   "outputs": [
    {
     "data": {
      "text/plain": [
       "(array([ 0.        ,  0.        ,  0.        ,  0.        ,  0.        ,\n",
       "         0.        ,  0.        ,  0.        ,  0.00581395,  0.00581395,\n",
       "         0.00581395,  0.00581395,  0.00581395,  0.00581395,  0.00581395,\n",
       "         0.00581395,  0.00581395,  0.00581395,  0.00581395,  0.00581395,\n",
       "         0.00581395,  0.00581395,  0.01162791,  0.01162791,  0.01162791,\n",
       "         0.01162791,  0.01162791,  0.01162791,  0.01162791,  0.01162791,\n",
       "         0.02325581,  0.04069767,  0.12790698,  0.14534884,  0.16860465,\n",
       "         0.18023256,  0.18604651,  0.20930233,  0.24418605,  0.26744186,\n",
       "         0.29069767,  0.29651163,  0.33139535,  0.36046512,  0.37209302,\n",
       "         0.4127907 ,  0.41860465,  0.51744186,  0.52906977,  0.55232558,\n",
       "         0.56395349,  0.68604651,  0.72093023,  0.81395349,  0.8255814 ,\n",
       "         0.95348837,  0.96511628,  0.97093023,  0.98255814,  1.        ]),\n",
       " array([ 0.01744186,  0.02906977,  0.03488372,  0.04651163,  0.1744186 ,\n",
       "         0.18604651,  0.27906977,  0.31395349,  0.43604651,  0.44767442,\n",
       "         0.47093023,  0.48255814,  0.58139535,  0.5872093 ,  0.62790698,\n",
       "         0.63953488,  0.66860465,  0.70348837,  0.70930233,  0.73255814,\n",
       "         0.75581395,  0.79069767,  0.81395349,  0.81976744,  0.83139535,\n",
       "         0.85465116,  0.87209302,  0.95930233,  0.97674419,  0.98837209,\n",
       "         0.98837209,  0.98837209,  0.98837209,  0.98837209,  0.98837209,\n",
       "         0.98837209,  0.98837209,  0.99418605,  0.99418605,  0.99418605,\n",
       "         0.99418605,  0.99418605,  0.99418605,  0.99418605,  0.99418605,\n",
       "         0.99418605,  0.99418605,  0.99418605,  0.99418605,  0.99418605,\n",
       "         0.99418605,  1.        ,  1.        ,  1.        ,  1.        ,\n",
       "         1.        ,  1.        ,  1.        ,  1.        ,  1.        ]),\n",
       " array([ 0.96471069,  0.96410971,  0.96408952,  0.96408487,  0.96395529,\n",
       "         0.96369257,  0.96306562,  0.96227525,  0.96214728,  0.96173978,\n",
       "         0.96145436,  0.96131173,  0.96061881,  0.96031377,  0.96011377,\n",
       "         0.95967561,  0.95918154,  0.95877688,  0.95846225,  0.95790003,\n",
       "         0.94923874,  0.94893726,  0.94891579,  0.94875094,  0.94698282,\n",
       "         0.94614844,  0.94521204,  0.85844906,  0.84986576,  0.81316953,\n",
       "         0.1511671 ,  0.15013424,  0.05497428,  0.05478796,  0.05302071,\n",
       "         0.05301718,  0.05124906,  0.05108421,  0.05106274,  0.04364794,\n",
       "         0.04209997,  0.04153775,  0.04122312,  0.04081846,  0.04004931,\n",
       "         0.03988623,  0.03968623,  0.03938119,  0.03864062,  0.03854564,\n",
       "         0.03807928,  0.03785272,  0.03772475,  0.03693438,  0.03630743,\n",
       "         0.03604471,  0.03591513,  0.03591048,  0.03589029,  0.03528931]))"
      ]
     },
     "execution_count": 16,
     "metadata": {},
     "output_type": "execute_result"
    }
   ],
   "source": [
    "# 正确的数据\n",
    "y_true = label_binarize(y_test[names[-4]],classes=(0,1,2)).T[0:-1].T.ravel()\n",
    "# 预测的数据 => 获取第一个目标属性的预测值，并将其转换为一维的数组\n",
    "y_predict = forest_y_score[0].ravel()\n",
    "# 计算的值\n",
    "metrics.roc_curve(y_true, y_predict)"
   ]
  },
  {
   "cell_type": "code",
   "execution_count": 17,
   "metadata": {
    "collapsed": false,
    "scrolled": false
   },
   "outputs": [
    {
     "data": {
      "image/png": "[encoded data removed]",
      "text/plain": [
       "<matplotlib.figure.Figure at 0x256d153f860>"
      ]
     },
     "metadata": {},
     "output_type": "display_data"
    }
   ],
   "source": [
    "## 8. 画图（ROC图）\n",
    "plt.figure(figsize=(8, 6), facecolor='w')\n",
    "plt.plot(forest_fpr1,forest_tpr1,c='r',lw=2,label=u'Hinselmann目标属性,AUC=%.3f' % auc1)\n",
    "plt.plot(forest_fpr2,forest_tpr2,c='b',lw=2,label=u'Schiller目标属性,AUC=%.3f' % auc2)\n",
    "plt.plot(forest_fpr3,forest_tpr3,c='g',lw=2,label=u'Citology目标属性,AUC=%.3f' % auc3)\n",
    "plt.plot(forest_fpr4,forest_tpr4,c='y',lw=2,label=u'Biopsy目标属性,AUC=%.3f' % auc4)\n",
    "plt.plot((0,1),(0,1),c='#a0a0a0',lw=2,ls='--')\n",
    "plt.xlim(-0.001, 1.001)\n",
    "plt.ylim(-0.001, 1.001)\n",
    "plt.xticks(np.arange(0, 1.1, 0.1))\n",
    "plt.yticks(np.arange(0, 1.1, 0.1))\n",
    "plt.xlabel('False Positive Rate(FPR)', fontsize=16)\n",
    "plt.ylabel('True Positive Rate(TPR)', fontsize=16)\n",
    "plt.grid(b=True, ls=':')\n",
    "plt.legend(loc='lower right', fancybox=True, framealpha=0.8, fontsize=12)\n",
    "plt.title(u'随机森林多目标属性分类ROC曲线', fontsize=18)\n",
    "plt.show()"
   ]
  },
  {
   "cell_type": "code",
   "execution_count": 18,
   "metadata": {
    "collapsed": false,
    "scrolled": false
   },
   "outputs": [
    {
     "name": "stdout",
     "output_type": "stream",
     "text": [
      "训练样本数量429，测试样本数量:429\n",
      "1决策树数目，1最大深度，正确率:86.48%\n",
      "1决策树数目，2最大深度，正确率:86.95%\n",
      "1决策树数目，3最大深度，正确率:84.62%\n",
      "1决策树数目，7最大深度，正确率:82.75%\n",
      "1决策树数目，15最大深度，正确率:78.09%\n",
      "50决策树数目，1最大深度，正确率:86.71%\n",
      "50决策树数目，2最大深度，正确率:86.48%\n",
      "50决策树数目，3最大深度，正确率:86.48%\n",
      "50决策树数目，7最大深度，正确率:86.25%\n",
      "50决策树数目，15最大深度，正确率:84.38%\n",
      "100决策树数目，1最大深度，正确率:86.95%\n",
      "100决策树数目，2最大深度，正确率:86.25%\n",
      "100决策树数目，3最大深度，正确率:86.48%\n",
      "100决策树数目，7最大深度，正确率:86.25%\n",
      "100决策树数目，15最大深度，正确率:85.08%\n",
      "500决策树数目，1最大深度，正确率:86.48%\n",
      "500决策树数目，2最大深度，正确率:86.48%\n",
      "500决策树数目，3最大深度，正确率:86.48%\n",
      "500决策树数目，7最大深度，正确率:86.25%\n",
      "500决策树数目，15最大深度，正确率:84.85%\n"
     ]
    },
    {
     "data": {
      "image/png": "[encoded data removed]",
      "text/plain": [
       "<matplotlib.figure.Figure at 0x256d153f7f0>"
      ]
     },
     "metadata": {},
     "output_type": "display_data"
    }
   ],
   "source": [
    "#比较不同树数目、树最大深度的情况下随机森林的正确率\n",
    "#一般情况下，初始的随机森林树个数是100，深度1，如果需要我们再进行优化操作\n",
    "x_train2,x_test2,y_train2,y_test2 = train_test_split(X, Y, test_size=0.5, random_state=0)\n",
    "print (\"训练样本数量%d，测试样本数量:%d\" % (x_train2.shape[0], x_test2.shape[0]))\n",
    "## 比较\n",
    "estimators = [1,50,100,500]\n",
    "depth = [1,2,3,7,15]\n",
    "err_list = []\n",
    "for es in estimators:\n",
    "    es_list = []\n",
    "    for d in depth:\n",
    "        tf = RandomForestClassifier(n_estimators=es, criterion='gini', max_depth=d, max_features = None, random_state=0)\n",
    "        tf.fit(x_train2, y_train2)\n",
    "        st = tf.score(x_test2, y_test2)\n",
    "        err = 1 - st\n",
    "        es_list.append(err)\n",
    "        print (\"%d决策树数目，%d最大深度，正确率:%.2f%%\" % (es, d, st * 100))\n",
    "    err_list.append(es_list)\n",
    "\n",
    "    \n",
    "## 画图\n",
    "plt.figure(facecolor='w')\n",
    "i = 0\n",
    "colors = ['r','b','g','y']\n",
    "lw = [1,2,4,3]\n",
    "max_err = 0\n",
    "min_err = 100\n",
    "for es,l in zip(estimators,err_list):\n",
    "    plt.plot(depth, l, c=colors[i], lw=lw[i], label=u'树数目:%d' % es)\n",
    "    max_err = max((max(l),max_err))\n",
    "    min_err = min((min(l),min_err))\n",
    "    i += 1\n",
    "plt.xlabel(u'树深度', fontsize=16)\n",
    "plt.ylabel(u'错误率', fontsize=16)\n",
    "plt.legend(loc='upper left', fancybox=True, framealpha=0.8, fontsize=12)\n",
    "plt.grid(True)\n",
    "plt.xlim(min(depth),max(depth))\n",
    "plt.ylim(min_err * 0.99, max_err * 1.01)\n",
    "plt.title(u'随机森林中树数目、深度和错误率的关系图', fontsize=18)\n",
    "plt.show()"
   ]
  },
  {
   "cell_type": "code",
   "execution_count": 19,
   "metadata": {
    "collapsed": false
   },
   "outputs": [],
   "source": [
    "# 随机森林画图\n",
    "# 方式三：直接生成图片\n",
    "from sklearn import tree\n",
    "from IPython.display import Image  \n",
    "import pydotplus\n",
    "k = 0\n",
    "for clf in forest.estimators_:\n",
    "    dot_data = tree.export_graphviz(clf, out_file=None,  \n",
    "                         filled=True, rounded=True,  \n",
    "                         special_characters=True)\n",
    "    graph = pydotplus.graph_from_dot_data(dot_data)\n",
    "#     graph.write_pdf(\"foress_tree_%d.pdf\" % k)\n",
    "    graph.write_png(\"foress_tree_%d.png\" % k)\n",
    "    k += 1\n",
    "    if k == 10:\n",
    "        break"
   ]
  },
  {
   "cell_type": "code",
   "execution_count": null,
   "metadata": {
    "collapsed": true
   },
   "outputs": [],
   "source": []
  }
 ],
 "metadata": {
  "kernelspec": {
   "display_name": "Python 3",
   "language": "python",
   "name": "python3"
  },
  "language_info": {
   "codemirror_mode": {
    "name": "ipython",
    "version": 3
   },
   "file_extension": ".py",
   "mimetype": "text/x-python",
   "name": "python",
   "nbconvert_exporter": "python",
   "pygments_lexer": "ipython3",
   "version": "3.6.0"
  }
 },
 "nbformat": 4,
 "nbformat_minor": 0
}
